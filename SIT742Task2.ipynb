{
  "nbformat": 4,
  "nbformat_minor": 0,
  "metadata": {
    "colab": {
      "name": "SIT742Task2.ipynb",
      "provenance": [],
      "collapsed_sections": [],
      "toc_visible": true,
      "include_colab_link": true
    },
    "kernelspec": {
      "display_name": "Python 3",
      "language": "python",
      "name": "python3"
    },
    "language_info": {
      "codemirror_mode": {
        "name": "ipython",
        "version": 3
      },
      "file_extension": ".py",
      "mimetype": "text/x-python",
      "name": "python",
      "nbconvert_exporter": "python",
      "pygments_lexer": "ipython3",
      "version": "3.7.7"
    }
  },
  "cells": [
    {
      "cell_type": "markdown",
      "metadata": {
        "id": "view-in-github",
        "colab_type": "text"
      },
      "source": [
        "<a href=\"https://colab.research.google.com/github/nisarga-nishu/python/blob/master/SIT742Task2.ipynb\" target=\"_parent\"><img src=\"https://colab.research.google.com/assets/colab-badge.svg\" alt=\"Open In Colab\"/></a>"
      ]
    },
    {
      "cell_type": "markdown",
      "metadata": {
        "colab_type": "text",
        "id": "5PD5Pz3u-6vb"
      },
      "source": [
        "# SIT742: Modern Data Science \n",
        "**(2020 Assessment Task 02: Exploration FIFA2019 Data)**\n",
        "\n",
        "---\n",
        "- Materials in this module include resources collected from various open-source online repositories.\n",
        "- You are free to use, change and distribute this package.\n",
        "\n",
        "Prepared by **SIT742 Teaching Team**\n",
        "\n",
        "\n",
        "---\n",
        "\n",
        "<div class=\"alert alert-block alert-info\">\n",
        "Enter your information in the following cell. Please make sure you fill your Student ID and Name correctly.  \n",
        "</div>\n",
        "\n",
        "**Student Group Information:** Please fill your information below\n",
        "\n",
        "- Names with Student IDs:  Nishu Nagaraj (218631007);\n",
        "Prashama Shetty (219387308); Pranali Mandhare (220297793)\n",
        "- Group ID:  52 (SIT42T2Group)\n",
        "- Emails:   nagarajni@deakin.edu.au;\n",
        "pvshetty@deakin.edu.au; pjmandhare12@gmail.com\n",
        "\n",
        "\n",
        "---"
      ]
    },
    {
      "cell_type": "markdown",
      "metadata": {
        "colab_type": "text",
        "id": "2ljGko6N-6vf"
      },
      "source": [
        "## Overview\n",
        "\n",
        "Recently, [Kaggle](https://www.kaggle.com) (a data science community and competition platform) released one data set '[FIFA19](https://www.kaggle.com/karangadiya/fifa19)‘, which consists of 18K+ FIFA 19 player with around 90 attributes extracted from FIFA database. In this assessment task, we make it available as the data set:\n",
        "- [2020T2Data.csv](https://github.com/tulip-lab/sit742/raw/master/Assessment/2020/data/2020T2Data.csv): The data set for this assignment task.\n",
        "\n",
        "In this task, you will need to **use Spark packages**\n",
        "\n",
        "- **Part 1**: Exploratory Data Analysis\n",
        "\n",
        "- **Part 2**: Clustering Analysis, and identify the position profiles of each cluster\n",
        "\n",
        "- **Part 3**: Classification Analysis, and evaluate the performance of different algorithms using cross validation;\n",
        "\n",
        "\n",
        "You will be required to complete the coding to answer the questions with a neat and clean format, and your commenting and adherence to code standards will be considered when marking. Further information on Python standards, please visit https://www.python.org/dev/peps/pep-0008/ \n",
        "\n",
        "\n",
        "**Note**: You are not necessary to stick to the partial code provided, and you can write your own complete code to implement the required tasks. But you should provide sufficient comments.\n",
        "\n"
      ]
    },
    {
      "cell_type": "markdown",
      "metadata": {
        "colab_type": "text",
        "id": "G1vjEdvs-6vh"
      },
      "source": [
        "## Part 1 - What we could know about FIFA 2019 Players? \n",
        "\n",
        "### 1.0. Libraries and data files\n",
        "<a id=\"Load data\"></a>\n",
        "***\n",
        "\n",
        "Import the necessary Spark environment, and load the data set [2020T2Data.csv](https://github.com/tulip-lab/sit742/raw/master/Assessment/2020/data/2020T2Data.csv).\n"
      ]
    },
    {
      "cell_type": "code",
      "metadata": {
        "colab_type": "code",
        "id": "auVRAscVRVrI",
        "outputId": "391c9b56-a843-4368-c182-250fb23c71fe",
        "colab": {
          "base_uri": "https://localhost:8080/",
          "height": 34
        }
      },
      "source": [
        "!pip install wget\n",
        "!apt-get install openjdk-8-jdk-headless -qq > /dev/null\n",
        "!wget -q https://archive.apache.org/dist/spark/spark-2.4.0/spark-2.4.0-bin-hadoop2.7.tgz\n",
        "!tar xf spark-2.4.0-bin-hadoop2.7.tgz\n",
        "!pip install -q findspark\n",
        "import os,wget\n",
        "os.environ[\"JAVA_HOME\"] = \"/usr/lib/jvm/java-8-openjdk-amd64\"\n",
        "os.environ[\"SPARK_HOME\"] = \"/content/spark-2.4.0-bin-hadoop2.7\"\n",
        "\n",
        "\n",
        "link_to_data = 'https://github.com/tulip-lab/sit742/raw/master/Assessment/2020/data/2020T2Data.csv'\n",
        "DataSet = wget.download(link_to_data)"
      ],
      "execution_count": 14,
      "outputs": [
        {
          "output_type": "stream",
          "text": [
            "Requirement already satisfied: wget in /usr/local/lib/python3.6/dist-packages (3.2)\n"
          ],
          "name": "stdout"
        }
      ]
    },
    {
      "cell_type": "code",
      "metadata": {
        "colab_type": "code",
        "id": "3Gxm5nc6Rz-a",
        "outputId": "946452a3-de75-4c68-c109-35e692ae4037",
        "colab": {
          "base_uri": "https://localhost:8080/",
          "height": 34
        }
      },
      "source": [
        "import findspark\n",
        "findspark.init()\n",
        "from pyspark.sql import SparkSession\n",
        "from pyspark import SparkContext\n",
        "sc = SparkContext.getOrCreate()\n",
        "from pyspark.sql import SQLContext\n",
        "sqlContext = SQLContext(sc)\n",
        "sqlContext"
      ],
      "execution_count": 15,
      "outputs": [
        {
          "output_type": "execute_result",
          "data": {
            "text/plain": [
              "<pyspark.sql.context.SQLContext at 0x7f29d8734048>"
            ]
          },
          "metadata": {
            "tags": []
          },
          "execution_count": 15
        }
      ]
    },
    {
      "cell_type": "markdown",
      "metadata": {
        "colab_type": "text",
        "id": "dSPbqoEGR30v"
      },
      "source": [
        "### 1.1 Data Exploration\n",
        "\n",
        "*Remind: You must only use **PySpark** to complete the following data processing and model building. Otherwise, you lose all marks.*\n",
        "\n",
        "<a id=\"loading\"></a>\n",
        "***\n",
        "\n",
        "<div class=\"alert alert-block alert-info\">\n",
        "\n",
        "**Code**: \n",
        "    import the csv file as a Spark dataframe and name it as df\n",
        "\n",
        "</div>\n",
        "\n"
      ]
    },
    {
      "cell_type": "code",
      "metadata": {
        "colab_type": "code",
        "id": "uuGY6lgWR7B3",
        "outputId": "4c5a5b3b-0d81-4072-fcc1-7cef8d880012",
        "colab": {
          "base_uri": "https://localhost:8080/",
          "height": 479
        }
      },
      "source": [
        "# Import the '2020T2Data.csv' as a Spark dataframe and name it as df\n",
        "spark = SparkSession.builder.appName('SIT742T2').getOrCreate()\n",
        "\n",
        "# Your Code \n",
        "#df = spark.read.csv(\"2020T2Data.csv\")\n",
        "#df.show() #displaying the contents of Spark dataframe\n",
        "\n",
        "#reading the csv file as a Spark dataframe\n",
        "df = sqlContext.read.format('csv').options(header='true').load('2020T2Data.csv')  \n",
        "df.show() #displaying the contents of Spark dataframe"
      ],
      "execution_count": 16,
      "outputs": [
        {
          "output_type": "stream",
          "text": [
            "+------+-----------------+---+--------------------+-----------+--------------------+-------+---------+-------------------+--------------------+--------+-------+-------+--------------+------------------------+---------+-----------+--------------+----------+---------+--------+-------------+------------+-----------+--------------------+------+----------+------+----------+--------+---------+---------------+------------+-------+---------+-----+----------+-----------+-----------+------------+-----------+-------+---------+-------+---------+-------+-------+--------+---------+----------+-------------+-----------+------+---------+---------+-------+--------------+-------------+--------+----------+---------+-------------+----------+-----------------+\n",
            "|    ID|             Name|Age|               Photo|Nationality|                Flag|Overall|Potential|               Club|           Club Logo|value(M)|wage(K)|Special|Preferred Foot|International Reputation|Weak Foot|Skill Moves|     Work Rate| Body Type|Real Face|Position|Jersey Number|      Joined|Loaned From|Contract Valid Until|Height|Height(CM)|Weight|Weight(KG)|Crossing|Finishing|HeadingAccuracy|ShortPassing|Volleys|Dribbling|Curve|FKAccuracy|LongPassing|BallControl|Acceleration|SprintSpeed|Agility|Reactions|Balance|ShotPower|Jumping|Stamina|Strength|LongShots|Aggression|Interceptions|Positioning|Vision|Penalties|Composure|Marking|StandingTackle|SlidingTackle|GKDiving|GKHandling|GKKicking|GKPositioning|GKReflexes|Release Clause(M)|\n",
            "+------+-----------------+---+--------------------+-----------+--------------------+-------+---------+-------------------+--------------------+--------+-------+-------+--------------+------------------------+---------+-----------+--------------+----------+---------+--------+-------------+------------+-----------+--------------------+------+----------+------+----------+--------+---------+---------------+------------+-------+---------+-----+----------+-----------+-----------+------------+-----------+-------+---------+-------+---------+-------+-------+--------+---------+----------+-------------+-----------+------+---------+---------+-------+--------------+-------------+--------+----------+---------+-------------+----------+-----------------+\n",
            "|158023|         L. Messi| 31|https://cdn.sofif...|  Argentina|https://cdn.sofif...|     94|       94|       FC Barcelona|https://cdn.sofif...|   110.5|    565|   2202|          Left|                       5|        4|          4|Medium/ Medium|     Messi|      Yes|      RF|           10| Jul 1, 2004|       null|                2021|  5.70|   173.736|159.00| 72.121128|      84|       95|             70|          90|     86|       97|   93|        94|         87|         96|          91|         86|     91|       95|     95|       85|     68|     72|      59|       94|        48|           22|         94|    94|       75|       96|     33|            28|           26|       6|        11|       15|           14|         8|            226.5|\n",
            "| 20801|Cristiano Ronaldo| 33|https://cdn.sofif...|   Portugal|https://cdn.sofif...|     94|       94|           Juventus|https://cdn.sofif...|      77|    405|   2228|         Right|                       5|        4|          5|     High/ Low|C. Ronaldo|      Yes|      ST|            7|Jul 10, 2018|       null|                2022|  6.20|   188.976|183.00| 83.007336|      84|       94|             89|          81|     87|       88|   81|        76|         77|         94|          89|         91|     87|       96|     70|       95|     95|     88|      79|       93|        63|           29|         95|    82|       85|       95|     28|            31|           23|       7|        11|       15|           14|        11|            127.1|\n",
            "|190871|        Neymar Jr| 26|https://cdn.sofif...|     Brazil|https://cdn.sofif...|     92|       93|Paris Saint-Germain|https://cdn.sofif...|   118.5|    290|   2143|         Right|                       5|        5|          5|  High/ Medium|    Neymar|      Yes|      LW|           10| Aug 3, 2017|       null|                2022|  5.90|   179.832|150.00|   68.0388|      79|       87|             62|          84|     84|       96|   88|        87|         78|         95|          94|         90|     96|       94|     84|       80|     61|     81|      49|       82|        56|           36|         89|    87|       81|       94|     27|            24|           33|       9|         9|       15|           15|        11|            228.1|\n",
            "|193080|           De Gea| 27|https://cdn.sofif...|      Spain|https://cdn.sofif...|     91|       93|  Manchester United|https://cdn.sofif...|      72|    260|   1471|         Right|                       4|        3|          1|Medium/ Medium|      Lean|      Yes|      GK|            1| Jul 1, 2011|       null|                2020|  6.40|   195.072|168.00| 76.203456|      17|       13|             21|          50|     13|       18|   21|        19|         51|         42|          57|         58|     60|       90|     43|       31|     67|     43|      64|       12|        38|           30|         12|    68|       40|       68|     15|            21|           13|      90|        85|       87|           88|        94|            138.6|\n",
            "|192985|     K. De Bruyne| 27|https://cdn.sofif...|    Belgium|https://cdn.sofif...|     91|       92|    Manchester City|https://cdn.sofif...|     102|    355|   2281|         Right|                       4|        5|          4|    High/ High|    Normal|      Yes|     RCM|            7|Aug 30, 2015|       null|                2023|  5.11|  155.7528|154.00| 69.853168|      93|       82|             55|          92|     82|       86|   85|        83|         91|         91|          78|         76|     79|       91|     77|       91|     63|     90|      75|       91|        76|           61|         87|    94|       79|       88|     68|            58|           51|      15|        13|        5|           10|        13|            196.4|\n",
            "|183277|        E. Hazard| 27|https://cdn.sofif...|    Belgium|https://cdn.sofif...|     91|       91|            Chelsea|https://cdn.sofif...|      93|    340|   2142|         Right|                       4|        4|          4|  High/ Medium|    Normal|      Yes|      LF|           10| Jul 1, 2012|       null|                2020|  5.80|   176.784|163.00| 73.935496|      81|       84|             61|          89|     80|       95|   83|        79|         83|         94|          94|         88|     95|       90|     94|       82|     56|     83|      66|       80|        54|           41|         87|    89|       86|       91|     34|            27|           22|      11|        12|        6|            8|         8|            172.1|\n",
            "|177003|        L. Modri?| 32|https://cdn.sofif...|    Croatia|https://cdn.sofif...|     91|       91|        Real Madrid|https://cdn.sofif...|      67|    420|   2280|         Right|                       4|        4|          4|    High/ High|      Lean|      Yes|     RCM|           10| Aug 1, 2012|       null|                2020|  5.80|   176.784|146.00| 66.224432|      86|       72|             55|          93|     76|       90|   85|        78|         88|         93|          80|         72|     93|       90|     94|       79|     68|     89|      58|       82|        62|           83|         79|    92|       82|       84|     60|            76|           73|      13|         9|        7|           14|         9|            137.4|\n",
            "|176580|       L. Su��rez| 31|https://cdn.sofif...|    Uruguay|https://cdn.sofif...|     91|       91|       FC Barcelona|https://cdn.sofif...|      80|    455|   2346|         Right|                       5|        4|          3|  High/ Medium|    Normal|      Yes|      RS|            9|Jul 11, 2014|       null|                2021|  6.00|    182.88|190.00|  86.18248|      77|       93|             77|          82|     88|       87|   86|        84|         64|         90|          86|         75|     82|       92|     83|       86|     69|     90|      83|       85|        87|           41|         92|    84|       85|       85|     62|            45|           38|      27|        25|       31|           33|        37|              164|\n",
            "|155862|     Sergio Ramos| 32|https://cdn.sofif...|      Spain|https://cdn.sofif...|     91|       91|        Real Madrid|https://cdn.sofif...|      51|    380|   2201|         Right|                       4|        3|          3|  High/ Medium|    Normal|      Yes|     RCB|           15| Aug 1, 2005|       null|                2020|  6.00|    182.88|181.00| 82.100152|      66|       60|             91|          78|     66|       63|   74|        72|         77|         84|          76|         75|     78|       85|     66|       79|     93|     84|      83|       59|        88|           90|         60|    63|       75|       82|     87|            92|           91|      11|         8|        9|            7|        11|            104.6|\n",
            "|200389|         J. Oblak| 25|https://cdn.sofif...|   Slovenia|https://cdn.sofif...|     90|       93|   Atl��tico Madrid|https://cdn.sofif...|      68|     94|   1331|         Right|                       3|        3|          1|Medium/ Medium|    Normal|      Yes|      GK|            1|Jul 16, 2014|       null|                2021|  6.20|   188.976|192.00| 87.089664|      13|       11|             15|          29|     13|       12|   13|        14|         26|         16|          43|         60|     67|       86|     49|       22|     76|     41|      78|       12|        34|           19|         11|    70|       11|       70|     27|            12|           18|      86|        92|       78|           88|        89|            144.5|\n",
            "|188545|   R. Lewandowski| 29|https://cdn.sofif...|     Poland|https://cdn.sofif...|     90|       90| FC Bayern M��nchen|https://cdn.sofif...|      77|    205|   2152|         Right|                       4|        4|          4|  High/ Medium|    Normal|      Yes|      ST|            9| Jul 1, 2014|       null|                2021|  6.00|    182.88|176.00| 79.832192|      62|       91|             85|          83|     89|       85|   77|        86|         65|         89|          77|         78|     78|       90|     78|       88|     84|     78|      84|       84|        80|           39|         91|    77|       88|       86|     34|            42|           19|      15|         6|       12|            8|        10|            127.1|\n",
            "|182521|         T. Kroos| 28|https://cdn.sofif...|    Germany|https://cdn.sofif...|     90|       90|        Real Madrid|https://cdn.sofif...|    76.5|    355|   2190|         Right|                       4|        5|          3|Medium/ Medium|    Normal|      Yes|     LCM|            8|Jul 17, 2014|       null|                2022|  6.00|    182.88|168.00| 76.203456|      88|       76|             54|          92|     82|       81|   86|        84|         93|         90|          64|         62|     70|       89|     71|       87|     30|     75|      73|       92|        60|           82|         79|    86|       73|       85|     72|            79|           69|      10|        11|       13|            7|        10|            156.8|\n",
            "|182493|        D. God��n| 32|https://cdn.sofif...|    Uruguay|https://cdn.sofif...|     90|       90|   Atl��tico Madrid|https://cdn.sofif...|      44|    125|   1946|         Right|                       3|        3|          2|  Medium/ High|      Lean|      Yes|      CB|           10| Aug 4, 2010|       null|                2019|  6.20|   188.976|172.00| 78.017824|      55|       42|             92|          79|     47|       53|   49|        51|         70|         76|          68|         68|     58|       85|     54|       67|     91|     66|      88|       43|        89|           88|         48|    52|       50|       82|     90|            89|           89|       6|         8|       15|            5|        15|             90.2|\n",
            "|168542|      David Silva| 32|https://cdn.sofif...|      Spain|https://cdn.sofif...|     90|       90|    Manchester City|https://cdn.sofif...|      60|    285|   2115|          Left|                       4|        2|          4|  High/ Medium|    Normal|      Yes|     LCM|           21|Jul 14, 2010|       null|                2020|  5.80|   176.784|148.00| 67.131616|      84|       76|             54|          93|     82|       89|   82|        77|         87|         94|          70|         64|     92|       90|     90|       72|     64|     78|      52|       75|        57|           50|         89|    92|       75|       93|     59|            53|           29|       6|        15|        7|            6|        12|              111|\n",
            "|215914|        N. Kant��| 27|https://cdn.sofif...|     France|https://cdn.sofif...|     89|       90|            Chelsea|https://cdn.sofif...|      63|    225|   2189|         Right|                       3|        3|          2|  Medium/ High|      Lean|      Yes|     LDM|           13|Jul 16, 2016|       null|                2023|  5.60|   170.688|159.00| 72.121128|      68|       65|             54|          86|     56|       79|   49|        49|         81|         80|          82|         78|     82|       93|     92|       71|     77|     96|      76|       69|        90|           92|         71|    79|       54|       85|     90|            91|           85|      15|        12|       10|            7|        10|            121.3|\n",
            "|211110|        P. Dybala| 24|https://cdn.sofif...|  Argentina|https://cdn.sofif...|     89|       94|           Juventus|https://cdn.sofif...|      89|    205|   2092|          Left|                       3|        3|          4|  High/ Medium|    Normal|      Yes|      LF|           21| Jul 1, 2015|       null|                2022|  5.10|   155.448|165.00|  74.84268|      82|       84|             68|          87|     88|       92|   88|        88|         75|         92|          87|         83|     91|       86|     85|       82|     75|     80|      65|       88|        48|           32|         84|    87|       86|       84|     23|            20|           20|       5|         4|        4|            5|         8|            153.5|\n",
            "|202126|          H. Kane| 24|https://cdn.sofif...|    England|https://cdn.sofif...|     89|       91|  Tottenham Hotspur|https://cdn.sofif...|    83.5|    205|   2165|         Right|                       3|        4|          3|    High/ High|    Normal|      Yes|      ST|            9| Jul 1, 2010|       null|                2024|  6.20|   188.976|196.00| 88.904032|      75|       94|             85|          80|     84|       80|   78|        68|         82|         84|          68|         72|     71|       91|     71|       88|     78|     89|      84|       85|        76|           35|         93|    80|       90|       89|     56|            36|           38|       8|        10|       11|           14|        11|            160.7|\n",
            "|194765|     A. Griezmann| 27|https://cdn.sofif...|     France|https://cdn.sofif...|     89|       90|   Atl��tico Madrid|https://cdn.sofif...|      78|    145|   2246|          Left|                       4|        3|          4|    High/ High|      Lean|      Yes|     CAM|            7|Jul 28, 2014|       null|                2023|  5.90|   179.832|161.00| 73.028312|      82|       90|             84|          83|     87|       88|   84|        78|         76|         90|          88|         85|     90|       90|     80|       80|     90|     83|      62|       82|        69|           35|         91|    83|       79|       87|     59|            47|           48|      14|         8|       14|           13|        14|            165.8|\n",
            "|192448|    M. ter Stegen| 26|https://cdn.sofif...|    Germany|https://cdn.sofif...|     89|       92|       FC Barcelona|https://cdn.sofif...|      58|    240|   1328|         Right|                       3|        4|          1|Medium/ Medium|    Normal|      Yes|      GK|           22| Jul 1, 2014|       null|                2022|  6.20|   188.976|187.00| 84.821704|      15|       14|             11|          36|     14|       17|   18|        12|         42|         18|          38|         50|     37|       85|     43|       22|     79|     35|      79|       10|        43|           22|         11|    69|       25|       69|     25|            13|           10|      87|        85|       88|           85|        90|            123.3|\n",
            "|192119|      T. Courtois| 26|https://cdn.sofif...|    Belgium|https://cdn.sofif...|     89|       90|        Real Madrid|https://cdn.sofif...|    53.5|    240|   1311|          Left|                       4|        2|          1|Medium/ Medium|  Courtois|      Yes|      GK|            1| Aug 9, 2018|       null|                2024|  6.60|   201.168|212.00| 96.161504|      14|       14|             13|          33|     12|       13|   19|        20|         35|         23|          46|         52|     61|       84|     45|       36|     68|     38|      70|       17|        23|           15|         13|    44|       27|       66|     20|            18|           16|      85|        91|       72|           86|        88|            113.7|\n",
            "+------+-----------------+---+--------------------+-----------+--------------------+-------+---------+-------------------+--------------------+--------+-------+-------+--------------+------------------------+---------+-----------+--------------+----------+---------+--------+-------------+------------+-----------+--------------------+------+----------+------+----------+--------+---------+---------------+------------+-------+---------+-----+----------+-----------+-----------+------------+-----------+-------+---------+-------+---------+-------+-------+--------+---------+----------+-------------+-----------+------+---------+---------+-------+--------------+-------------+--------+----------+---------+-------------+----------+-----------------+\n",
            "only showing top 20 rows\n",
            "\n"
          ],
          "name": "stdout"
        }
      ]
    },
    {
      "cell_type": "markdown",
      "metadata": {
        "colab_type": "text",
        "id": "2sXsdZ2wbrAg"
      },
      "source": [
        "****\n",
        "\n",
        "\n",
        "<div class=\"alert alert-block alert-info\">\n",
        "\n",
        "**Code**: \n",
        "    Check statistics (min, mean and max) for features on Age, Overall. Then find out the Avg Overall on Position, Avg Overall on Nationality (Sort by avg Overall on Nationality)\n",
        "\n",
        "<div class=\"alert alert-block alert-warning\">\n",
        "    \n",
        "**Report**: \n",
        "    **1.1.A** Please answer questions with proper section title  '1.1.A':     \n",
        "    <ol>\n",
        "        <li> Which are the (min, mean and max) for Age </li>\n",
        "        <li> Which are the (min, mean and max) for Overall </li>\n",
        "        <li> Which position the talented player (based on Avg Overall) are playing? </li>\n",
        "        <li> Which are the top 3 countres that most likely have the genies player (based on sort of Avg Overall) and </li>\n",
        "    </ol>\n",
        "</div>\n",
        "</div>"
      ]
    },
    {
      "cell_type": "code",
      "metadata": {
        "colab_type": "code",
        "id": "mdWVric-aY-h",
        "outputId": "c8a5e194-c8b0-4c3c-858d-f5cce3254637",
        "colab": {
          "base_uri": "https://localhost:8080/",
          "height": 323
        }
      },
      "source": [
        "from pyspark.sql import functions as F\n",
        "\n",
        "#Your code for statistics on Age\n",
        "\n",
        "df.agg({'Age':'min'}).show()\n",
        "df.agg({'Age':'max'}).show()\n",
        "df.agg({'Age':'mean'}).show()\n"
      ],
      "execution_count": 17,
      "outputs": [
        {
          "output_type": "stream",
          "text": [
            "+--------+\n",
            "|min(Age)|\n",
            "+--------+\n",
            "|      16|\n",
            "+--------+\n",
            "\n",
            "+--------+\n",
            "|max(Age)|\n",
            "+--------+\n",
            "|      45|\n",
            "+--------+\n",
            "\n",
            "+------------------+\n",
            "|          avg(Age)|\n",
            "+------------------+\n",
            "|25.122205745043114|\n",
            "+------------------+\n",
            "\n"
          ],
          "name": "stdout"
        }
      ]
    },
    {
      "cell_type": "code",
      "metadata": {
        "colab_type": "code",
        "id": "-KMLB3sAfkpK",
        "outputId": "ca9b34f2-68ec-4791-f8e7-f2acb0a41558",
        "colab": {
          "base_uri": "https://localhost:8080/",
          "height": 323
        }
      },
      "source": [
        "#Your Code for statistics on Overall\n",
        "\n",
        "df.agg({'Overall':'min'}).show()\n",
        "df.agg({'Overall':'max'}).show()\n",
        "df.agg({'Overall':'mean'}).show()\n"
      ],
      "execution_count": 18,
      "outputs": [
        {
          "output_type": "stream",
          "text": [
            "+------------+\n",
            "|min(Overall)|\n",
            "+------------+\n",
            "|          46|\n",
            "+------------+\n",
            "\n",
            "+------------+\n",
            "|max(Overall)|\n",
            "+------------+\n",
            "|          94|\n",
            "+------------+\n",
            "\n",
            "+-----------------+\n",
            "|     avg(Overall)|\n",
            "+-----------------+\n",
            "|66.23869940132916|\n",
            "+-----------------+\n",
            "\n"
          ],
          "name": "stdout"
        }
      ]
    },
    {
      "cell_type": "code",
      "metadata": {
        "colab_type": "code",
        "id": "S4SMaNc4gX3E",
        "outputId": "fb4e0e6e-9721-4c7b-a091-0b5edc2b88ec",
        "colab": {
          "base_uri": "https://localhost:8080/",
          "height": 459
        }
      },
      "source": [
        "#Your Code for which position \n",
        "\n",
        "df.filter(df.Overall>=66).select(df.Position).show()\n",
        "\n"
      ],
      "execution_count": 19,
      "outputs": [
        {
          "output_type": "stream",
          "text": [
            "+--------+\n",
            "|Position|\n",
            "+--------+\n",
            "|      RF|\n",
            "|      ST|\n",
            "|      LW|\n",
            "|      GK|\n",
            "|     RCM|\n",
            "|      LF|\n",
            "|     RCM|\n",
            "|      RS|\n",
            "|     RCB|\n",
            "|      GK|\n",
            "|      ST|\n",
            "|     LCM|\n",
            "|      CB|\n",
            "|     LCM|\n",
            "|     LDM|\n",
            "|      LF|\n",
            "|      ST|\n",
            "|     CAM|\n",
            "|      GK|\n",
            "|      GK|\n",
            "+--------+\n",
            "only showing top 20 rows\n",
            "\n"
          ],
          "name": "stdout"
        }
      ]
    },
    {
      "cell_type": "code",
      "metadata": {
        "colab_type": "code",
        "id": "B6PYyigEjZwI",
        "outputId": "6609ef30-5bb2-46b3-ad21-d5157f4aeab0",
        "colab": {
          "base_uri": "https://localhost:8080/",
          "height": 170
        }
      },
      "source": [
        "#Your Code to output top 3 countries most likely having good players\n",
        "\n",
        "df.groupby(['Nationality'])\\\n",
        ".agg({\"Overall\": \"count\"})\\\n",
        ".sort(\"count(Overall)\", ascending=False)\\\n",
        ".show(3)"
      ],
      "execution_count": 20,
      "outputs": [
        {
          "output_type": "stream",
          "text": [
            "+-----------+--------------+\n",
            "|Nationality|count(Overall)|\n",
            "+-----------+--------------+\n",
            "|    England|          1662|\n",
            "|    Germany|          1198|\n",
            "|      Spain|          1072|\n",
            "+-----------+--------------+\n",
            "only showing top 3 rows\n",
            "\n"
          ],
          "name": "stdout"
        }
      ]
    },
    {
      "cell_type": "markdown",
      "metadata": {
        "colab_type": "text",
        "id": "kT8OESOsmQfv"
      },
      "source": [
        "****\n",
        "\n",
        "<div class=\"alert alert-block alert-info\">\n",
        "\n",
        "**Code**: \n",
        "    You are required to find out the Avg Potentials on Country by Positions, and show the top 10 by ordering your results on Country with alphabet? (Hint: you may need to use pivot)\n",
        "\n",
        "<div class=\"alert alert-block alert-warning\">\n",
        "    \n",
        "**Report**: \n",
        "    **1.1.B** Please answer questions with proper section title  '1.1.B':     \n",
        "    <ol>\n",
        "        <li> Show the results on Avg Potentials on Country by Position with ordering the results on country by alphabet</li>\n",
        "        <li> Which position the young talented player (by Avg Potential) are playing in Australia? </li>\n",
        "    </ol>\n",
        "    \n",
        "</div>\n",
        "</div>"
      ]
    },
    {
      "cell_type": "code",
      "metadata": {
        "colab_type": "code",
        "id": "R1RsTYgImPFD",
        "colab": {
          "base_uri": "https://localhost:8080/",
          "height": 309
        },
        "outputId": "f8f9e143-944d-4178-ba3e-72dfe20802a7"
      },
      "source": [
        "# top 10 countries with average potentials ordered by alphabetical order with pivot on all position\n",
        "df.groupby([\"Nationality\"]).pivot(\"Position\").agg({\"Potential\": \"mean\"}).sort(\"Nationality\").show(10)\n",
        "\n",
        "\n",
        "#Your Code to identify which position has the most talented young players in Australia\n",
        "\n",
        "\n",
        "\n"
      ],
      "execution_count": 28,
      "outputs": [
        {
          "output_type": "stream",
          "text": [
            "+-----------------+----+-----------------+-----------------+-----------------+----+-----------------+-----------------+----+-----------------+-----------------+-----------------+-----------------+----+-----------------+-----------------+-----------------+-----+----+-----------------+-----------------+-----------------+-----------------+----+-----------------+-----------------+-----------------+----+-----------------+\n",
            "|      Nationality|null|              CAM|               CB|              CDM|  CF|               CM|               GK| LAM|               LB|              LCB|              LCM|              LDM|  LF|               LM|               LS|               LW|  LWB| RAM|               RB|              RCB|              RCM|              RDM|  RF|               RM|               RS|               RW| RWB|               ST|\n",
            "+-----------------+----+-----------------+-----------------+-----------------+----+-----------------+-----------------+----+-----------------+-----------------+-----------------+-----------------+----+-----------------+-----------------+-----------------+-----+----+-----------------+-----------------+-----------------+-----------------+----+-----------------+-----------------+-----------------+----+-----------------+\n",
            "|      Afghanistan|null|             66.0|             null|             null|null|             71.0|             null|null|             64.0|             null|             null|             null|null|             70.0|             null|             null| null|null|             null|             null|             null|             null|null|             null|             null|             null|null|             null|\n",
            "|          Albania|70.0|            70.75|74.33333333333333|             69.5|null|            71.75|             77.5|null|             66.0|             null|             71.0|72.66666666666667|null|73.66666666666667|             null|             64.0| null|null|             75.0|             68.0|             75.0|             null|null|             64.0|             71.0|             72.5|null|            72.25|\n",
            "|          Algeria|null|            74.25|             69.5|            70.25|null|77.66666666666667|             67.6|null|            73.75|             69.0|             76.0|             73.0|null|74.66666666666667|             null|73.66666666666667| null|null|             63.0|             74.5|             76.0|71.33333333333333|null|            74.75|             null|             76.6|82.0|            73.75|\n",
            "|          Andorra|null|             null|             64.0|             null|null|             null|             null|null|             null|             null|             null|             null|null|             null|             null|             null| null|null|             null|             null|             null|             null|null|             null|             null|             null|null|             null|\n",
            "|           Angola|null|             null|             79.0|             null|null|             null|             null|null|             75.0|             72.0|             null|             null|null|             72.0|             null|             70.5| null|null|             null|             65.0|             null|             null|null|             68.0|             66.0|             null|null|75.66666666666667|\n",
            "|Antigua & Barbuda|null|             null|             null|             null|null|             null|             null|null|             null|             null|             null|             null|null|             65.0|             null|             null| null|null|             71.5|             null|             null|             null|null|             null|             null|             null|null|             63.0|\n",
            "|        Argentina|70.0|74.78260869565217|72.85858585858585|72.76363636363637|79.0|73.08695652173913|71.76288659793815|null|72.22033898305085|73.91428571428571|            74.52|           73.375|82.0|         74.40625|75.23076923076923|75.18518518518519|75.75|null|            71.98|73.05405405405405|72.94444444444444|             73.5|87.0| 73.2741935483871|             73.8|73.20689655172414|72.0|           72.928|\n",
            "|          Armenia|null|             null|             null|             null|null|             null|             null|null|             null|             null|             null|             null|null|             69.5|             73.0|             null| null|null|             72.0|             null|             null|             null|null|             83.0|             null|             70.5|null|             70.0|\n",
            "|        Australia|null|            71.25| 69.0952380952381|          66.8125|null|67.71428571428571|             67.0|null|68.28571428571429|             67.6|             70.0|             70.5|null|69.54545454545455|             64.0|66.44444444444444| 71.0|null|66.21428571428571|             69.5|             72.5|             77.0|null|70.53846153846153|             66.5|             68.6|66.0|            67.44|\n",
            "|          Austria|64.0|73.16666666666667|         70.28125|69.63157894736842|68.0|68.70588235294117| 68.1590909090909|null|69.47058823529412|71.58333333333333|72.44444444444444|             75.5|null|69.29411764705883|             82.0|72.33333333333333| 69.0|null| 69.0909090909091| 70.0909090909091|             69.6|72.85714285714286|66.0|70.30434782608695|70.66666666666667|             71.0|66.0|68.62962962962963|\n",
            "+-----------------+----+-----------------+-----------------+-----------------+----+-----------------+-----------------+----+-----------------+-----------------+-----------------+-----------------+----+-----------------+-----------------+-----------------+-----+----+-----------------+-----------------+-----------------+-----------------+----+-----------------+-----------------+-----------------+----+-----------------+\n",
            "only showing top 10 rows\n",
            "\n"
          ],
          "name": "stdout"
        }
      ]
    },
    {
      "cell_type": "markdown",
      "metadata": {
        "colab_type": "text",
        "id": "lGWtR6Ast7o8"
      },
      "source": [
        "Interesting, is there a age that the player is fully relased his potential? If there is, could you find out?\n",
        "\n",
        "****\n",
        "\n",
        "<div class=\"alert alert-block alert-info\">\n",
        "\n",
        "**Code**: \n",
        "    You are required to plot the finding visually by having Age as the x-axis and avg potential on age with avg overall on age at y-axis. (Hint: you may need to select and aggreate on data first and then turn it into pandas for plotting)\n",
        "\n",
        "<div class=\"alert alert-block alert-warning\">\n",
        "    \n",
        "**Report**: \n",
        "    **1.1.C** Please include the following plot into your report with proper section title  '1.1.C':     \n",
        "    <ol>\n",
        "        <li> Plot the finding visually by having Age as the x-axis and avg potential on age with avg overall on age at y-axis. </li>\n",
        "        <li> What you can find for the age at which the player is fully released his potential?\n",
        "    </ol>\n",
        "    \n",
        "</div>\n",
        "</div>"
      ]
    },
    {
      "cell_type": "code",
      "metadata": {
        "colab_type": "code",
        "id": "mRvkk376u-dE",
        "colab": {}
      },
      "source": [
        "import matplotlib.pyplot as plt\n",
        "import numpy as np\n",
        "import pandas as pd\n",
        "\n",
        "# Your Code for plot\n",
        "\n",
        "\n",
        "\n",
        "\n"
      ],
      "execution_count": 0,
      "outputs": []
    },
    {
      "cell_type": "markdown",
      "metadata": {
        "colab_type": "text",
        "id": "gMqIOge42NI7"
      },
      "source": [
        "## Part 2 - Unsupervised Learning: Kmeans\n",
        "\n",
        "<a id=\"kmeans\"></a>\n",
        "***\n",
        "\n",
        "In this part, you are required to build a Kmeans clustering for explore the player segmentation. \n",
        "\n",
        "\n",
        "### 2.1 Data Preparation\n",
        "\n",
        "*Remind: You must only use **pyspark** to complete the following data processing and model building. Otherwise, you lose all marks.*"
      ]
    },
    {
      "cell_type": "markdown",
      "metadata": {
        "colab_type": "text",
        "id": "eHi1rU4p-6wK"
      },
      "source": [
        "\n",
        "****\n",
        "\n",
        "<div class=\"alert alert-block alert-info\">\n",
        "\n",
        "**Code**: \n",
        "    You will need to remove the Goal Keepers (Position = 'GK') and only use the skillset attributes (Height(CM),\n",
        "Weight(KG),\n",
        "Crossing,\n",
        "Finishing,\n",
        "HeadingAccuracy,\n",
        "ShortPassing,\n",
        "Volleys,\n",
        "Dribbling,\n",
        "Curve,\n",
        "FKAccuracy,\n",
        "LongPassing,\n",
        "BallControl,\n",
        "Acceleration,\n",
        "SprintSpeed,\n",
        "Agility,\n",
        "Reactions,\n",
        "Balance,\n",
        "ShotPower,\n",
        "Jumping,\n",
        "Stamina,\n",
        "Strength,\n",
        "LongShots,\n",
        "Aggression,\n",
        "Interceptions,\n",
        "Positioning,\n",
        "Vision,\n",
        "Penalties,\n",
        "Composure,\n",
        "Marking,\n",
        "StandingTackle,\n",
        "SlidingTackle) \n",
        "\n",
        "</div>\n",
        "\n"
      ]
    },
    {
      "cell_type": "code",
      "metadata": {
        "colab_type": "code",
        "id": "X2LHjTMv3w_7",
        "colab": {}
      },
      "source": [
        "# Your code to select relevent features and filtering by leaving out the GK\n",
        "\n"
      ],
      "execution_count": 0,
      "outputs": []
    },
    {
      "cell_type": "markdown",
      "metadata": {
        "colab_type": "text",
        "id": "kVLBzBId9iCk"
      },
      "source": [
        "To make the later stage easier, we define the position group by using the position feature.\n",
        "- DEF = [LB,LWB,RB,LCB,RCB,CB,RWB] ,\n",
        "- FWD = [RF,LF,LW,RS,RW,LS,CF,ST] ,\n",
        "- MID = [LCM,LM,RDM,CAM,RAM,RCM,CM,CDM,RM,LAM,LDM]\n",
        "\n",
        "****\n",
        "\n",
        "<div class=\"alert alert-block alert-info\">\n",
        "\n",
        "**Code**: \n",
        "    You are required to create a new column called Position_Group with only DEF/FWD/MID in the dataframe you created in previous question\n",
        "\n",
        "</div>\n",
        "\n",
        "</div>"
      ]
    },
    {
      "cell_type": "code",
      "metadata": {
        "colab_type": "code",
        "id": "X4N6edcq5kE_",
        "colab": {
          "base_uri": "https://localhost:8080/",
          "height": 129
        },
        "outputId": "92da6139-31b3-4fc4-d7fb-948c942652df"
      },
      "source": [
        "from pyspark.sql.functions import when,col\n",
        "\n",
        "# Your code to complete\n",
        "DEF= \n",
        "FWD=  \n",
        "MID=  \n",
        "\n",
        "# Your code here to create a new variable df_kmeans_new with a new column Position_Group, ..\n",
        "#\n",
        "\n"
      ],
      "execution_count": 24,
      "outputs": [
        {
          "output_type": "error",
          "ename": "SyntaxError",
          "evalue": "ignored",
          "traceback": [
            "\u001b[0;36m  File \u001b[0;32m\"<ipython-input-24-8e5a052d1475>\"\u001b[0;36m, line \u001b[0;32m4\u001b[0m\n\u001b[0;31m    DEF=\u001b[0m\n\u001b[0m         ^\u001b[0m\n\u001b[0;31mSyntaxError\u001b[0m\u001b[0;31m:\u001b[0m invalid syntax\n"
          ]
        }
      ]
    },
    {
      "cell_type": "markdown",
      "metadata": {
        "colab_type": "text",
        "id": "R-NyFp7IBtGZ"
      },
      "source": [
        "Now, we remove the Position_Group and Position to create the feature for Kmeans\n",
        "\n",
        "\n"
      ]
    },
    {
      "cell_type": "code",
      "metadata": {
        "colab_type": "code",
        "id": "2x_o_w54B-mN",
        "colab": {}
      },
      "source": [
        "from pyspark.ml.clustering import KMeans\n",
        "from pyspark.ml.feature import VectorAssembler\n",
        "\n",
        "FEATURES_COL = ['Height(CM)', 'Weight(KG)', \n",
        "                      'Crossing', 'Finishing', 'HeadingAccuracy', \n",
        "                      'ShortPassing', 'Volleys', 'Dribbling', 'Curve',\n",
        "                      'FKAccuracy', 'LongPassing', 'BallControl', \n",
        "                      'Acceleration', 'SprintSpeed', 'Agility', \n",
        "                      'Reactions', 'Balance', 'ShotPower', 'Jumping', \n",
        "                      'Stamina', 'Strength', 'LongShots', 'Aggression', \n",
        "                      'Interceptions', 'Positioning', 'Vision', 'Penalties', \n",
        "                      'Composure', 'Marking', 'StandingTackle', 'SlidingTackle']\n",
        "\n",
        "vecAssembler = VectorAssembler(inputCols=FEATURES_COL, outputCol=\"features\")\n",
        "df_kmeans_ = vecAssembler.transform(df_kmeans_new).select('ID','features')\n",
        "df_kmeans_.show(3)"
      ],
      "execution_count": 0,
      "outputs": []
    },
    {
      "cell_type": "markdown",
      "metadata": {
        "colab_type": "text",
        "id": "UniVGeYIDa_k"
      },
      "source": [
        "Now in order to evaluate your Kmeans Model, please plot the elbow plot\n",
        "\n",
        "\n",
        "<div class=\"alert alert-block alert-info\">\n",
        "\n",
        "**Code**: \n",
        "    You are required to plot the elbow plot, with a varying K from 2 to 20.\n",
        "\n",
        "<div class=\"alert alert-block alert-warning\">\n",
        "    \n",
        "**Report**: \n",
        "    **2.1** In your report with proper section title  '2.1', Please include the elbow plot. \n",
        "\n",
        "</div>\n",
        "</div>\n",
        "\n"
      ]
    },
    {
      "cell_type": "code",
      "metadata": {
        "colab_type": "code",
        "id": "UDia7JYyDLhg",
        "colab": {}
      },
      "source": [
        "cost = np.zeros(20)\n",
        "\n",
        "for k in range(2,20):\n",
        "# Your code\n"
      ],
      "execution_count": 0,
      "outputs": []
    },
    {
      "cell_type": "code",
      "metadata": {
        "colab_type": "code",
        "id": "Mr-bSnj5EA1l",
        "colab": {}
      },
      "source": [
        "fig, ax = plt.subplots(1,1, figsize =(8,6))\n",
        "ax.set_xlabel('k')\n",
        "ax.set_ylabel('cost')\n",
        "\n",
        "# Your Code\n"
      ],
      "execution_count": 0,
      "outputs": []
    },
    {
      "cell_type": "markdown",
      "metadata": {
        "colab_type": "text",
        "id": "XupecQFHE5Za"
      },
      "source": [
        "\n",
        "### 2.2 K-Means\n",
        "\n",
        "Could you tell out the optimized K value? \n",
        "\n",
        "\n",
        "\n",
        "\n",
        "****\n",
        "\n",
        "<div class=\"alert alert-block alert-info\">\n",
        "\n",
        "**Code**: \n",
        "    You are required to choose a K value as 8 and then summarize each cluster with the count on Position_Group.\n",
        "\n",
        "<div class=\"alert alert-block alert-warning\">\n",
        "    \n",
        "**Report**: \n",
        "    **2.2** In your report with proper section title  '2.2', Please summarize the following:     \n",
        "    <ol>\n",
        "        <li> What you could find from those clusters (by cluster central point)? </li>\n",
        "        <li> Is there any Position_Group belonging to particular Cluster?</li>\n",
        "    </ol>\n",
        "\n",
        "</div>\n",
        "</div>\n",
        "\n",
        "\n"
      ]
    },
    {
      "cell_type": "code",
      "metadata": {
        "colab_type": "code",
        "id": "LxSOxcowE6vB",
        "colab": {}
      },
      "source": [
        "k = 8\n",
        "\n",
        "# Your code"
      ],
      "execution_count": 0,
      "outputs": []
    },
    {
      "cell_type": "code",
      "metadata": {
        "colab_type": "code",
        "id": "AkWZ5-6oFlpp",
        "colab": {}
      },
      "source": [
        "from pyspark.sql import SQLContext\n",
        "\n",
        "# Your code"
      ],
      "execution_count": 0,
      "outputs": []
    },
    {
      "cell_type": "markdown",
      "metadata": {
        "colab_type": "text",
        "id": "IiHEevY6IOJz"
      },
      "source": [
        "## Part 3 - Supervised Learning: Classification on Position_Group\n",
        "\n",
        "<a id=\"classification\"></a>\n",
        "***\n",
        "\n",
        "In last part, you use the player's skillset values to segment the players into 8 clusters. Now we want to see whether we could accuratly predict the position_group of the player.\n",
        "\n",
        "*Remind: You must only use **PySpark** to complete the following data processing and model building. Otherwise, you lose all marks.*\n",
        "\n",
        "\n",
        "### 3.1 Data Preparation\n",
        "\n",
        "We remove the feature of position and use all other skillset features and the cluster prediction as the input for the model. Your target for classification is \"Position_Group\"."
      ]
    },
    {
      "cell_type": "code",
      "metadata": {
        "colab_type": "code",
        "id": "PwtsyrUsI8e_",
        "colab": {}
      },
      "source": [
        "FEATURES_COL_ = ['Height(CM)', 'Weight(KG)', \n",
        "                      'Crossing', 'Finishing', 'HeadingAccuracy', \n",
        "                      'ShortPassing', 'Volleys', 'Dribbling', 'Curve',\n",
        "                      'FKAccuracy', 'LongPassing', 'BallControl', \n",
        "                      'Acceleration', 'SprintSpeed', 'Agility', \n",
        "                      'Reactions', 'Balance', 'ShotPower', 'Jumping', \n",
        "                      'Stamina', 'Strength', 'LongShots', 'Aggression', \n",
        "                      'Interceptions', 'Positioning', 'Vision', 'Penalties', \n",
        "                      'Composure', 'Marking', 'StandingTackle', 'SlidingTackle','Cluster']\n",
        "\n",
        "\n",
        "vecAssembler_ = VectorAssembler(inputCols=FEATURES_COL_, outputCol=\"features\")\n",
        "df_class_ = vecAssembler_.transform(df_kmeans_pred_).select('features','Position_Group')\n",
        "df_class_.show(3)\n"
      ],
      "execution_count": 0,
      "outputs": []
    },
    {
      "cell_type": "markdown",
      "metadata": {
        "colab_type": "text",
        "id": "AklN81TvMKJS"
      },
      "source": [
        "In many data science modeling work, feature scaling is very important.\n",
        "In here, we use standard scaling on the fetaures."
      ]
    },
    {
      "cell_type": "code",
      "metadata": {
        "colab_type": "code",
        "id": "pjQRAHOQMK6V",
        "colab": {}
      },
      "source": [
        "from pyspark.ml.feature import StandardScaler\n",
        "\n",
        "standardscaler=StandardScaler().setInputCol(\"features\").setOutputCol(\"Scaled_features\")\n",
        "raw_data=standardscaler.fit(df_class_).transform(df_class_)\n",
        "raw_data.select(\"features\",\"Scaled_features\",'Position_Group').show(5)"
      ],
      "execution_count": 0,
      "outputs": []
    },
    {
      "cell_type": "markdown",
      "metadata": {
        "colab_type": "text",
        "id": "DD6wgq2sgiGk"
      },
      "source": [
        "In Spark, you could not use string as Target data type, Please encode the Position_Group column by using following encoding: \n",
        "\n",
        "FWD = 0\n",
        "DEF = 1\n",
        "MID = 2\n",
        "\n",
        "*Hint: Data type after encoding should be numeric.*"
      ]
    },
    {
      "cell_type": "code",
      "metadata": {
        "colab_type": "code",
        "id": "OosmFX9iOc0Z",
        "colab": {}
      },
      "source": [
        "raw_data_ = raw_data.withColumn('Target',when(col(\"Position_Group\") == \"DEF\", 1)\n",
        "      .when(col(\"Position_Group\")== \"FWD\", 0)\n",
        "      .otherwise(2))"
      ],
      "execution_count": 0,
      "outputs": []
    },
    {
      "cell_type": "markdown",
      "metadata": {
        "colab_type": "text",
        "id": "NDfZARUNMW2M"
      },
      "source": [
        "### 3.2 Training Test Evaluation\n",
        "\n",
        "We remove the feature of position and use all other skillset features and the cluster prediction as the input for the model. The target for classification is \"Position_Group\".\n",
        "\n",
        "Now, we split your data into train/Test, and evaluate one model's performance."
      ]
    },
    {
      "cell_type": "code",
      "metadata": {
        "colab_type": "code",
        "id": "MmbanmwBMUQB",
        "colab": {}
      },
      "source": [
        "train, test = raw_data_.randomSplit([0.7, 0.3], seed=12)"
      ],
      "execution_count": 0,
      "outputs": []
    },
    {
      "cell_type": "code",
      "metadata": {
        "colab_type": "code",
        "id": "apoKm9igMi12",
        "colab": {}
      },
      "source": [
        "from pyspark.ml.classification import LogisticRegression\n",
        "lr = LogisticRegression(labelCol=\"Target\", featuresCol=\"Scaled_features\",maxIter=10)\n",
        "model=lr.fit(train)\n",
        "\n",
        "predict_train=model.transform(train)\n",
        "predict_test=model.transform(test)\n",
        "predict_test.select(\"Target\",\"prediction\").show(10)"
      ],
      "execution_count": 0,
      "outputs": []
    },
    {
      "cell_type": "markdown",
      "metadata": {
        "colab_type": "text",
        "id": "wZk-Z7CcP6Ng"
      },
      "source": [
        "\n",
        "****\n",
        "\n",
        "\n",
        "<div class=\"alert alert-block alert-info\">\n",
        "\n",
        "**Code**: \n",
        "    You are required to evaluate the model by using confusion matrix. Please also print out your model's Precision, Recall and F1 score.\n",
        "\n",
        "<div class=\"alert alert-block alert-warning\">\n",
        "    \n",
        "**Report**: \n",
        "    **3.2** In your report with proper section title  '3.2', Please summarize the following:     \n",
        "    <ol>\n",
        "        <li> The confusion matrix </li>\n",
        "        <li> The Precision, Recall and F1 score</li>\n",
        "    </ol>\n",
        "</div>\n",
        "</div>\n",
        "\n",
        "\n"
      ]
    },
    {
      "cell_type": "code",
      "metadata": {
        "colab_type": "code",
        "id": "yPho8CbGQCCm",
        "colab": {}
      },
      "source": [
        "from sklearn.metrics import confusion_matrix\n",
        "\n",
        "\n",
        "# Your Code\n"
      ],
      "execution_count": 0,
      "outputs": []
    },
    {
      "cell_type": "code",
      "metadata": {
        "colab_type": "code",
        "id": "abdY0SBNQlu2",
        "colab": {}
      },
      "source": [
        ""
      ],
      "execution_count": 0,
      "outputs": []
    },
    {
      "cell_type": "code",
      "metadata": {
        "colab_type": "code",
        "id": "d95nOilARR8H",
        "colab": {}
      },
      "source": [
        "from sklearn.metrics import classification_report\n",
        "\n",
        "# Your Code\n",
        "\n"
      ],
      "execution_count": 0,
      "outputs": []
    },
    {
      "cell_type": "markdown",
      "metadata": {
        "colab_type": "text",
        "id": "4Iy-g_68Q8OV"
      },
      "source": [
        "### 3.3 K-fold Cross-Validation\n",
        "\n",
        "We surely missed something during the modeling work -- Hyperparameter tuning! We can use K-fold cross validation to find out the best hyperparameter set.\n",
        "\n",
        "****\n",
        "\n",
        "\n",
        "<div class=\"alert alert-block alert-info\">\n",
        "\n",
        "**Code**: \n",
        "    Please implement K-fold cross validation for three (any three) classification models.\n",
        "\n",
        "<div class=\"alert alert-block alert-warning\">\n",
        "    \n",
        "**Report**: \n",
        "    **3.3** In your report with proper section title  '3.3', Please summarize the following:     \n",
        "    <ol>\n",
        "        <li> Your code design and running results </li>\n",
        "        <li> Your findings on hyperparameters based on this cross-validation results</li>\n",
        "        <li> Any difficuties you had </li>\n",
        "        <li> Any other possible tasks we could do on this dataset </li>\n",
        "    </ol>\n",
        "<b>Remind: fail to list the reference will lead a penalty and possibly plagiarism</b>    \n",
        "</div>\n",
        "</div>\n",
        "\n"
      ]
    },
    {
      "cell_type": "code",
      "metadata": {
        "colab_type": "code",
        "id": "0yCvsy1-jO7x",
        "colab": {}
      },
      "source": [
        "from pyspark.ml import Pipeline\n",
        "from pyspark.ml.classification import RandomForestClassifier\n",
        "from pyspark.ml.evaluation import MulticlassClassificationEvaluator\n",
        "from pyspark.ml.tuning import ParamGridBuilder, CrossValidator\n",
        "\n",
        "# Your code \n"
      ],
      "execution_count": 0,
      "outputs": []
    },
    {
      "cell_type": "code",
      "metadata": {
        "id": "Po2LjjT2QMP3",
        "colab_type": "code",
        "colab": {}
      },
      "source": [
        "# Your code"
      ],
      "execution_count": 0,
      "outputs": []
    }
  ]
}